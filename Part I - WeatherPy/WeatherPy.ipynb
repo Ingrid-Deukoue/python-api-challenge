{
 "cells": [
  {
   "cell_type": "markdown",
   "metadata": {},
   "source": [
    "# WeatherPy\n",
    "----\n",
    "\n",
    "#### Note\n",
    "* Instructions have been included for each segment. You do not have to follow them exactly, but they are included to help you think through the steps."
   ]
  },
  {
   "cell_type": "code",
   "execution_count": 89,
   "metadata": {
    "scrolled": true
   },
   "outputs": [],
   "source": [
    "# Dependencies and Setup\n",
    "import matplotlib.pyplot as plt\n",
    "import pandas as pd\n",
    "import numpy as np\n",
    "import scipy.stats as st\n",
    "import requests\n",
    "import time\n",
    "from scipy.stats import linregress\n",
    "from scipy.stats import pearsonr\n",
    "\n",
    "# Import API key\n",
    "from api_keys import weather_api_key\n",
    "\n",
    "# Incorporated citipy to determine city based on latitude and longitude\n",
    "from citipy import citipy\n",
    "\n",
    "# Output File (CSV)\n",
    "output_data_file = \"output_data/cities.csv\"\n",
    "\n",
    "# Range of latitudes and longitudes\n",
    "lat_range = (-90, 90)\n",
    "lng_range = (-180, 180)"
   ]
  },
  {
   "cell_type": "markdown",
   "metadata": {},
   "source": [
    "## Generate Cities List"
   ]
  },
  {
   "cell_type": "code",
   "execution_count": 71,
   "metadata": {},
   "outputs": [
    {
     "data": {
      "text/plain": [
       "635"
      ]
     },
     "execution_count": 71,
     "metadata": {},
     "output_type": "execute_result"
    }
   ],
   "source": [
    "# List for holding lat_lngs and cities\n",
    "lat_lngs = []\n",
    "cities = []\n",
    "\n",
    "# Create a set of random lat and lng combinations\n",
    "lats = np.random.uniform(lat_range[0], lat_range[1], size=1500)\n",
    "lngs = np.random.uniform(lng_range[0], lng_range[1], size=1500)\n",
    "lat_lngs = zip(lats, lngs)\n",
    "\n",
    "# Identify nearest city for each lat, lng combination\n",
    "for lat_lng in lat_lngs:\n",
    "    city = citipy.nearest_city(lat_lng[0], lat_lng[1]).city_name\n",
    "    \n",
    "    # If the city is unique, then add it to a our cities list\n",
    "    if city not in cities:\n",
    "        cities.append(city)\n",
    "\n",
    "# Print the city count to confirm sufficient count\n",
    "len(cities)"
   ]
  },
  {
   "cell_type": "markdown",
   "metadata": {},
   "source": [
    "### Perform API Calls\n",
    "* Perform a weather check on each city using a series of successive API calls.\n",
    "* Include a print log of each city as it'sbeing processed (with the city number and city name).\n"
   ]
  },
  {
   "cell_type": "code",
   "execution_count": 72,
   "metadata": {},
   "outputs": [],
   "source": [
    "city_list = []\n",
    "cloud_list = []\n",
    "country_list = []\n",
    "date_list = []\n",
    "humidity_list = []\n",
    "lat_list = []\n",
    "lng_list = []\n",
    "max_temp_list = []\n",
    "wind_speed_list = []\n",
    "index_counter = 0\n",
    "set_counter = 1"
   ]
  },
  {
   "cell_type": "code",
   "execution_count": 73,
   "metadata": {},
   "outputs": [
    {
     "name": "stdout",
     "output_type": "stream",
     "text": [
      "Beginning Data Retrieval \n",
      "-----------------------------\n",
      "Processing Record 1 of Set 1 : katsuura\n",
      "Processing Record 2 of Set 1 : rikitea\n",
      "Processing Record 3 of Set 1 : iqaluit\n",
      "Processing Record 4 of Set 1 : ribeira grande\n",
      "Processing Record 5 of Set 1 : kloulklubed\n",
      "Processing Record 6 of Set 1 : punta arenas\n",
      "City not found. Skipping...\n",
      "Processing Record 7 of Set 1 : torbay\n",
      "Processing Record 8 of Set 1 : sumbawanga\n",
      "Processing Record 9 of Set 1 : pevek\n",
      "Processing Record 10 of Set 1 : arraial do cabo\n",
      "Processing Record 11 of Set 1 : salta\n",
      "Processing Record 12 of Set 1 : mehamn\n",
      "City not found. Skipping...\n",
      "Processing Record 13 of Set 1 : hilo\n",
      "Processing Record 14 of Set 1 : svetlogorsk\n",
      "Processing Record 15 of Set 1 : hermanus\n",
      "Processing Record 16 of Set 1 : bonthe\n",
      "Processing Record 17 of Set 1 : pouebo\n",
      "Processing Record 18 of Set 1 : ambon\n",
      "Processing Record 19 of Set 1 : sambava\n",
      "Processing Record 20 of Set 1 : salinopolis\n",
      "City not found. Skipping...\n",
      "Processing Record 21 of Set 1 : dikson\n",
      "Processing Record 22 of Set 1 : buraydah\n",
      "City not found. Skipping...\n",
      "Processing Record 23 of Set 1 : avarua\n",
      "Processing Record 24 of Set 1 : meadow lake\n",
      "Processing Record 25 of Set 1 : port elizabeth\n",
      "City not found. Skipping...\n",
      "Processing Record 26 of Set 1 : yuci\n",
      "Processing Record 27 of Set 1 : severo-kurilsk\n",
      "Processing Record 28 of Set 1 : ambilobe\n",
      "Processing Record 29 of Set 1 : ushuaia\n",
      "Processing Record 30 of Set 1 : banjar\n",
      "Processing Record 31 of Set 1 : cape town\n",
      "Processing Record 32 of Set 1 : yellowknife\n",
      "Processing Record 33 of Set 1 : victoria\n",
      "Processing Record 34 of Set 1 : labuhan\n",
      "Processing Record 35 of Set 1 : husavik\n",
      "Processing Record 36 of Set 1 : butaritari\n",
      "Processing Record 37 of Set 1 : rawson\n",
      "Processing Record 38 of Set 1 : waipawa\n",
      "Processing Record 39 of Set 1 : upernavik\n",
      "Processing Record 40 of Set 1 : guerrero negro\n",
      "Processing Record 41 of Set 1 : amapa\n",
      "Processing Record 42 of Set 1 : bredasdorp\n",
      "Processing Record 43 of Set 1 : hithadhoo\n",
      "Processing Record 44 of Set 1 : qaanaaq\n",
      "Processing Record 45 of Set 1 : barrow\n",
      "Processing Record 46 of Set 1 : new norfolk\n",
      "Processing Record 47 of Set 1 : coquimbo\n",
      "Processing Record 48 of Set 1 : xianyang\n",
      "Processing Record 49 of Set 1 : forest acres\n",
      "Processing Record 50 of Set 1 : sigli\n",
      "City not found. Skipping...\n",
      "Processing Record 1 of Set 2 : laguna\n",
      "Processing Record 2 of Set 2 : poum\n",
      "Processing Record 3 of Set 2 : acarau\n",
      "Processing Record 4 of Set 2 : soyo\n",
      "Processing Record 5 of Set 2 : santa cruz\n",
      "Processing Record 6 of Set 2 : zarand\n",
      "Processing Record 7 of Set 2 : bambous virieux\n",
      "Processing Record 8 of Set 2 : mar del plata\n",
      "Processing Record 9 of Set 2 : honningsvag\n",
      "Processing Record 10 of Set 2 : vaini\n",
      "Processing Record 11 of Set 2 : peniche\n",
      "Processing Record 12 of Set 2 : albany\n",
      "Processing Record 13 of Set 2 : tuktoyaktuk\n",
      "Processing Record 14 of Set 2 : georgetown\n",
      "Processing Record 15 of Set 2 : east london\n",
      "Processing Record 16 of Set 2 : saint george\n",
      "Processing Record 17 of Set 2 : athabasca\n",
      "Processing Record 18 of Set 2 : port alfred\n",
      "Processing Record 19 of Set 2 : colares\n",
      "Processing Record 20 of Set 2 : atuona\n",
      "Processing Record 21 of Set 2 : bengkulu\n",
      "Processing Record 22 of Set 2 : aghavnadzor\n",
      "Processing Record 23 of Set 2 : solnechnyy\n",
      "Processing Record 24 of Set 2 : paita\n",
      "Processing Record 25 of Set 2 : busselton\n",
      "Processing Record 26 of Set 2 : amga\n",
      "Processing Record 27 of Set 2 : narsaq\n",
      "Processing Record 28 of Set 2 : kudahuvadhoo\n",
      "Processing Record 29 of Set 2 : paka\n",
      "Processing Record 30 of Set 2 : tuburan\n",
      "Processing Record 31 of Set 2 : chuy\n",
      "Processing Record 32 of Set 2 : vila\n",
      "Processing Record 33 of Set 2 : mataura\n",
      "Processing Record 34 of Set 2 : ode\n",
      "Processing Record 35 of Set 2 : bethel\n",
      "Processing Record 36 of Set 2 : san rafael\n",
      "Processing Record 37 of Set 2 : hobart\n",
      "Processing Record 38 of Set 2 : bathsheba\n",
      "Processing Record 39 of Set 2 : cidreira\n",
      "Processing Record 40 of Set 2 : castro\n",
      "Processing Record 41 of Set 2 : luganville\n",
      "City not found. Skipping...\n",
      "Processing Record 42 of Set 2 : aswan\n",
      "Processing Record 43 of Set 2 : harper\n",
      "Processing Record 44 of Set 2 : grindavik\n",
      "Processing Record 45 of Set 2 : bluff\n",
      "Processing Record 46 of Set 2 : khatanga\n",
      "Processing Record 47 of Set 2 : niamey\n",
      "Processing Record 48 of Set 2 : tasiilaq\n",
      "Processing Record 49 of Set 2 : ardmore\n",
      "Processing Record 50 of Set 2 : puerto penasco\n",
      "Processing Record 1 of Set 3 : kodiak\n",
      "Processing Record 2 of Set 3 : springdale\n",
      "Processing Record 3 of Set 3 : sorland\n",
      "Processing Record 4 of Set 3 : slobodskoy\n",
      "Processing Record 5 of Set 3 : kavieng\n",
      "Processing Record 6 of Set 3 : adre\n",
      "Processing Record 7 of Set 3 : vestmannaeyjar\n",
      "Processing Record 8 of Set 3 : ostrovnoy\n",
      "Processing Record 9 of Set 3 : henties bay\n",
      "Processing Record 10 of Set 3 : flinders\n",
      "Processing Record 11 of Set 3 : longyearbyen\n",
      "Processing Record 12 of Set 3 : mahebourg\n",
      "Processing Record 13 of Set 3 : arlit\n",
      "Processing Record 14 of Set 3 : thompson\n",
      "Processing Record 15 of Set 3 : vao\n",
      "Processing Record 16 of Set 3 : provideniya\n",
      "Processing Record 17 of Set 3 : magadi\n",
      "City not found. Skipping...\n",
      "Processing Record 18 of Set 3 : bereda\n",
      "Processing Record 19 of Set 3 : jamestown\n",
      "Processing Record 20 of Set 3 : molina\n",
      "City not found. Skipping...\n",
      "Processing Record 21 of Set 3 : rundu\n",
      "City not found. Skipping...\n",
      "Processing Record 22 of Set 3 : auki\n",
      "Processing Record 23 of Set 3 : imeni poliny osipenko\n",
      "Processing Record 24 of Set 3 : liverpool\n",
      "Processing Record 25 of Set 3 : dingle\n",
      "City not found. Skipping...\n",
      "Processing Record 26 of Set 3 : saldanha\n",
      "Processing Record 27 of Set 3 : fortuna\n",
      "Processing Record 28 of Set 3 : nome\n",
      "Processing Record 29 of Set 3 : ketchikan\n",
      "Processing Record 30 of Set 3 : mango\n",
      "Processing Record 31 of Set 3 : polahongon\n",
      "Processing Record 32 of Set 3 : omboue\n",
      "Processing Record 33 of Set 3 : hualmay\n",
      "Processing Record 34 of Set 3 : medea\n",
      "Processing Record 35 of Set 3 : evensk\n",
      "Processing Record 36 of Set 3 : san pedro\n",
      "Processing Record 37 of Set 3 : araouane\n",
      "Processing Record 38 of Set 3 : inhambane\n",
      "Processing Record 39 of Set 3 : lasa\n",
      "Processing Record 40 of Set 3 : port lincoln\n",
      "Processing Record 41 of Set 3 : luderitz\n",
      "Processing Record 42 of Set 3 : saskylakh\n",
      "City not found. Skipping...\n",
      "Processing Record 43 of Set 3 : pauini\n",
      "Processing Record 44 of Set 3 : jadu\n",
      "Processing Record 45 of Set 3 : sao felix do xingu\n",
      "Processing Record 46 of Set 3 : wanning\n",
      "Processing Record 47 of Set 3 : avera\n",
      "City not found. Skipping...\n",
      "Processing Record 48 of Set 3 : ponta delgada\n",
      "Processing Record 49 of Set 3 : ancud\n",
      "Processing Record 50 of Set 3 : vardo\n",
      "City not found. Skipping...\n",
      "Processing Record 1 of Set 4 : suntar\n",
      "Processing Record 2 of Set 4 : chara\n",
      "Processing Record 3 of Set 4 : chimore\n",
      "Processing Record 4 of Set 4 : gat\n",
      "Processing Record 5 of Set 4 : koumac\n",
      "City not found. Skipping...\n",
      "Processing Record 6 of Set 4 : faanui\n",
      "Processing Record 7 of Set 4 : norman wells\n",
      "Processing Record 8 of Set 4 : choszczno\n",
      "Processing Record 9 of Set 4 : smithers\n",
      "Processing Record 10 of Set 4 : kaeo\n",
      "Processing Record 11 of Set 4 : archidona\n",
      "Processing Record 12 of Set 4 : buchanan\n",
      "Processing Record 13 of Set 4 : ozinki\n",
      "Processing Record 14 of Set 4 : kobelyaky\n",
      "Processing Record 15 of Set 4 : bayir\n",
      "Processing Record 16 of Set 4 : cherskiy\n",
      "Processing Record 17 of Set 4 : marrakesh\n",
      "Processing Record 18 of Set 4 : saint-pierre\n",
      "Processing Record 19 of Set 4 : lavrentiya\n",
      "Processing Record 20 of Set 4 : ocampo\n",
      "Processing Record 21 of Set 4 : vilhena\n",
      "Processing Record 22 of Set 4 : jonuta\n",
      "Processing Record 23 of Set 4 : margate\n",
      "Processing Record 24 of Set 4 : vila franca do campo\n",
      "Processing Record 25 of Set 4 : talnakh\n",
      "Processing Record 26 of Set 4 : naze\n",
      "Processing Record 27 of Set 4 : portland\n",
      "Processing Record 28 of Set 4 : agadez\n",
      "Processing Record 29 of Set 4 : batticaloa\n",
      "Processing Record 30 of Set 4 : saa\n",
      "Processing Record 31 of Set 4 : quelimane\n",
      "Processing Record 32 of Set 4 : maceio\n",
      "Processing Record 33 of Set 4 : beringovskiy\n",
      "Processing Record 34 of Set 4 : awjilah\n",
      "Processing Record 35 of Set 4 : batagay-alyta\n",
      "Processing Record 36 of Set 4 : regeneracao\n",
      "Processing Record 37 of Set 4 : abrau-dyurso\n",
      "City not found. Skipping...\n",
      "Processing Record 38 of Set 4 : touros\n",
      "Processing Record 39 of Set 4 : cabo san lucas\n",
      "Processing Record 40 of Set 4 : amuntai\n"
     ]
    },
    {
     "name": "stdout",
     "output_type": "stream",
     "text": [
      "Processing Record 41 of Set 4 : rajanpur\n",
      "Processing Record 42 of Set 4 : esperance\n",
      "Processing Record 43 of Set 4 : te anau\n",
      "Processing Record 44 of Set 4 : were ilu\n",
      "Processing Record 45 of Set 4 : pitimbu\n",
      "Processing Record 46 of Set 4 : sangar\n",
      "Processing Record 47 of Set 4 : sharjah\n",
      "Processing Record 48 of Set 4 : moron\n",
      "Processing Record 49 of Set 4 : hamilton\n",
      "City not found. Skipping...\n",
      "City not found. Skipping...\n",
      "Processing Record 50 of Set 4 : rio gallegos\n",
      "Processing Record 1 of Set 5 : lagoa\n",
      "Processing Record 2 of Set 5 : puerto ayora\n",
      "Processing Record 3 of Set 5 : saint-georges\n",
      "Processing Record 4 of Set 5 : kipini\n",
      "Processing Record 5 of Set 5 : surin\n",
      "Processing Record 6 of Set 5 : nanortalik\n",
      "Processing Record 7 of Set 5 : tashtyp\n",
      "Processing Record 8 of Set 5 : costinesti\n",
      "Processing Record 9 of Set 5 : kirovskiy\n",
      "Processing Record 10 of Set 5 : north bend\n",
      "Processing Record 11 of Set 5 : falun\n",
      "Processing Record 12 of Set 5 : hami\n",
      "Processing Record 13 of Set 5 : san policarpo\n",
      "Processing Record 14 of Set 5 : coihaique\n",
      "Processing Record 15 of Set 5 : port blair\n",
      "Processing Record 16 of Set 5 : ayr\n",
      "Processing Record 17 of Set 5 : ilulissat\n",
      "Processing Record 18 of Set 5 : anahuac\n",
      "Processing Record 19 of Set 5 : nyurba\n",
      "Processing Record 20 of Set 5 : ferme-neuve\n",
      "Processing Record 21 of Set 5 : buritizeiro\n",
      "Processing Record 22 of Set 5 : vinh\n",
      "Processing Record 23 of Set 5 : massena\n",
      "Processing Record 24 of Set 5 : celendin\n",
      "Processing Record 25 of Set 5 : okhotsk\n",
      "Processing Record 26 of Set 5 : svetlyy\n",
      "Processing Record 27 of Set 5 : erenhot\n",
      "Processing Record 28 of Set 5 : lebu\n",
      "City not found. Skipping...\n",
      "Processing Record 29 of Set 5 : byron bay\n",
      "Processing Record 30 of Set 5 : vanavara\n",
      "Processing Record 31 of Set 5 : jiuquan\n",
      "Processing Record 32 of Set 5 : conakry\n",
      "Processing Record 33 of Set 5 : abu samrah\n",
      "Processing Record 34 of Set 5 : general roca\n",
      "Processing Record 35 of Set 5 : airai\n",
      "Processing Record 36 of Set 5 : faya\n",
      "Processing Record 37 of Set 5 : kamina\n",
      "Processing Record 38 of Set 5 : kupino\n",
      "Processing Record 39 of Set 5 : tiksi\n",
      "Processing Record 40 of Set 5 : savinka\n",
      "Processing Record 41 of Set 5 : chokurdakh\n",
      "Processing Record 42 of Set 5 : ugoofaaru\n",
      "Processing Record 43 of Set 5 : umba\n",
      "Processing Record 44 of Set 5 : teguise\n",
      "Processing Record 45 of Set 5 : ferrol\n",
      "Processing Record 46 of Set 5 : pangai\n",
      "Processing Record 47 of Set 5 : pachino\n",
      "City not found. Skipping...\n",
      "Processing Record 48 of Set 5 : sarab\n",
      "Processing Record 49 of Set 5 : cobija\n",
      "Processing Record 50 of Set 5 : port keats\n",
      "Processing Record 1 of Set 6 : the valley\n",
      "Processing Record 2 of Set 6 : hrubieszow\n",
      "Processing Record 3 of Set 6 : kawalu\n",
      "Processing Record 4 of Set 6 : port hardy\n",
      "Processing Record 5 of Set 6 : bosanska gradiska\n",
      "Processing Record 6 of Set 6 : suluq\n",
      "Processing Record 7 of Set 6 : savona\n",
      "Processing Record 8 of Set 6 : dicabisagan\n",
      "Processing Record 9 of Set 6 : padang\n",
      "Processing Record 10 of Set 6 : rolla\n",
      "Processing Record 11 of Set 6 : vanimo\n",
      "Processing Record 12 of Set 6 : aklavik\n",
      "Processing Record 13 of Set 6 : darhan\n",
      "Processing Record 14 of Set 6 : santa rosalia\n",
      "Processing Record 15 of Set 6 : northam\n",
      "Processing Record 16 of Set 6 : santa cruz cabralia\n",
      "Processing Record 17 of Set 6 : lagunas\n",
      "Processing Record 18 of Set 6 : antanifotsy\n",
      "Processing Record 19 of Set 6 : acari\n",
      "Processing Record 20 of Set 6 : port hedland\n",
      "Processing Record 21 of Set 6 : sibolga\n",
      "Processing Record 22 of Set 6 : ishinomaki\n",
      "Processing Record 23 of Set 6 : san quintin\n",
      "Processing Record 24 of Set 6 : qunduz\n",
      "Processing Record 25 of Set 6 : namatanai\n",
      "Processing Record 26 of Set 6 : abnub\n",
      "Processing Record 27 of Set 6 : rocha\n",
      "Processing Record 28 of Set 6 : kapaa\n",
      "Processing Record 29 of Set 6 : sterlibashevo\n",
      "Processing Record 30 of Set 6 : olafsvik\n",
      "Processing Record 31 of Set 6 : saint-philippe\n",
      "Processing Record 32 of Set 6 : sinesti\n",
      "Processing Record 33 of Set 6 : jumla\n",
      "Processing Record 34 of Set 6 : los llanos de aridane\n",
      "Processing Record 35 of Set 6 : shchelkun\n",
      "Processing Record 36 of Set 6 : kudat\n",
      "Processing Record 37 of Set 6 : port-gentil\n",
      "Processing Record 38 of Set 6 : russell\n",
      "Processing Record 39 of Set 6 : sao joao da barra\n",
      "Processing Record 40 of Set 6 : aurora\n",
      "Processing Record 41 of Set 6 : joshimath\n",
      "Processing Record 42 of Set 6 : camacha\n",
      "Processing Record 43 of Set 6 : hambantota\n",
      "Processing Record 44 of Set 6 : nagercoil\n",
      "Processing Record 45 of Set 6 : konstantinovka\n",
      "Processing Record 46 of Set 6 : krasnoselkup\n",
      "Processing Record 47 of Set 6 : vallenar\n",
      "Processing Record 48 of Set 6 : fairbanks\n",
      "Processing Record 49 of Set 6 : rudnogorsk\n",
      "Processing Record 50 of Set 6 : akyab\n",
      "Processing Record 1 of Set 7 : molo\n",
      "City not found. Skipping...\n",
      "Processing Record 2 of Set 7 : constitucion\n",
      "Processing Record 3 of Set 7 : dunedin\n",
      "Processing Record 4 of Set 7 : havre-saint-pierre\n",
      "Processing Record 5 of Set 7 : vagamo\n",
      "Processing Record 6 of Set 7 : bafra\n",
      "Processing Record 7 of Set 7 : muroto\n",
      "Processing Record 8 of Set 7 : codrington\n",
      "Processing Record 9 of Set 7 : pierre\n",
      "Processing Record 10 of Set 7 : axim\n",
      "City not found. Skipping...\n",
      "Processing Record 11 of Set 7 : novosibirsk\n",
      "Processing Record 12 of Set 7 : muyezerskiy\n",
      "Processing Record 13 of Set 7 : mount isa\n",
      "City not found. Skipping...\n",
      "Processing Record 14 of Set 7 : pangnirtung\n",
      "Processing Record 15 of Set 7 : san patricio\n",
      "Processing Record 16 of Set 7 : puerto del rosario\n",
      "Processing Record 17 of Set 7 : asau\n",
      "Processing Record 18 of Set 7 : hasaki\n",
      "Processing Record 19 of Set 7 : paraiso\n",
      "Processing Record 20 of Set 7 : kem\n",
      "Processing Record 21 of Set 7 : xingyi\n",
      "Processing Record 22 of Set 7 : dabakala\n",
      "Processing Record 23 of Set 7 : lahij\n",
      "Processing Record 24 of Set 7 : havoysund\n",
      "Processing Record 25 of Set 7 : lubango\n",
      "Processing Record 26 of Set 7 : calmar\n",
      "Processing Record 27 of Set 7 : srednekolymsk\n",
      "Processing Record 28 of Set 7 : eydhafushi\n",
      "Processing Record 29 of Set 7 : mayo\n",
      "Processing Record 30 of Set 7 : carupano\n",
      "Processing Record 31 of Set 7 : port augusta\n",
      "City not found. Skipping...\n",
      "Processing Record 32 of Set 7 : shache\n",
      "Processing Record 33 of Set 7 : ormara\n",
      "Processing Record 34 of Set 7 : caravelas\n",
      "Processing Record 35 of Set 7 : barra do garcas\n",
      "Processing Record 36 of Set 7 : tilichiki\n",
      "Processing Record 37 of Set 7 : guaratuba\n",
      "Processing Record 38 of Set 7 : biloela\n",
      "Processing Record 39 of Set 7 : kieta\n",
      "Processing Record 40 of Set 7 : nemuro\n",
      "Processing Record 41 of Set 7 : lompoc\n",
      "Processing Record 42 of Set 7 : vila velha\n",
      "City not found. Skipping...\n",
      "Processing Record 43 of Set 7 : siniscola\n",
      "Processing Record 44 of Set 7 : baglung\n",
      "Processing Record 45 of Set 7 : steamboat springs\n",
      "City not found. Skipping...\n",
      "Processing Record 46 of Set 7 : high prairie\n",
      "Processing Record 47 of Set 7 : merauke\n",
      "Processing Record 48 of Set 7 : gonbad-e qabus\n",
      "Processing Record 49 of Set 7 : nouakchott\n",
      "City not found. Skipping...\n",
      "Processing Record 50 of Set 7 : berlevag\n",
      "City not found. Skipping...\n",
      "Processing Record 1 of Set 8 : woodward\n",
      "Processing Record 2 of Set 8 : taltal\n",
      "Processing Record 3 of Set 8 : archena\n",
      "Processing Record 4 of Set 8 : morondava\n",
      "Processing Record 5 of Set 8 : zhadovka\n",
      "Processing Record 6 of Set 8 : jurado\n",
      "Processing Record 7 of Set 8 : chippewa falls\n",
      "Processing Record 8 of Set 8 : apaseo el grande\n",
      "Processing Record 9 of Set 8 : alice\n",
      "Processing Record 10 of Set 8 : natalicio talavera\n",
      "Processing Record 11 of Set 8 : klaksvik\n",
      "Processing Record 12 of Set 8 : comodoro rivadavia\n",
      "Processing Record 13 of Set 8 : alofi\n",
      "Processing Record 14 of Set 8 : hofn\n",
      "Processing Record 15 of Set 8 : leshukonskoye\n",
      "Processing Record 16 of Set 8 : waingapu\n",
      "Processing Record 17 of Set 8 : puerto escondido\n",
      "Processing Record 18 of Set 8 : bilma\n",
      "Processing Record 19 of Set 8 : katano\n",
      "Processing Record 20 of Set 8 : gamba\n",
      "Processing Record 21 of Set 8 : sal rei\n",
      "Processing Record 22 of Set 8 : sitka\n",
      "Processing Record 23 of Set 8 : carnarvon\n",
      "Processing Record 24 of Set 8 : havelock\n",
      "City not found. Skipping...\n",
      "City not found. Skipping...\n",
      "City not found. Skipping...\n",
      "Processing Record 25 of Set 8 : yumen\n",
      "Processing Record 26 of Set 8 : mwense\n",
      "Processing Record 27 of Set 8 : shumskiy\n",
      "Processing Record 28 of Set 8 : butterworth\n",
      "Processing Record 29 of Set 8 : egvekinot\n",
      "Processing Record 30 of Set 8 : miraflores\n",
      "Processing Record 31 of Set 8 : yarada\n"
     ]
    },
    {
     "name": "stdout",
     "output_type": "stream",
     "text": [
      "Processing Record 32 of Set 8 : abu kamal\n",
      "Processing Record 33 of Set 8 : kisangani\n",
      "Processing Record 34 of Set 8 : trincomalee\n",
      "Processing Record 35 of Set 8 : lakes entrance\n",
      "Processing Record 36 of Set 8 : vizinga\n",
      "Processing Record 37 of Set 8 : ulladulla\n",
      "Processing Record 38 of Set 8 : sisimiut\n",
      "Processing Record 39 of Set 8 : sadat\n",
      "Processing Record 40 of Set 8 : libenge\n",
      "Processing Record 41 of Set 8 : nizhnevartovsk\n",
      "City not found. Skipping...\n",
      "City not found. Skipping...\n",
      "Processing Record 42 of Set 8 : ixtapa\n",
      "Processing Record 43 of Set 8 : quatre cocos\n",
      "Processing Record 44 of Set 8 : rapid valley\n",
      "Processing Record 45 of Set 8 : shaunavon\n",
      "Processing Record 46 of Set 8 : oranjemund\n",
      "City not found. Skipping...\n",
      "Processing Record 47 of Set 8 : saint anthony\n",
      "Processing Record 48 of Set 8 : de aar\n",
      "Processing Record 49 of Set 8 : old town\n",
      "Processing Record 50 of Set 8 : moose jaw\n",
      "Processing Record 1 of Set 9 : ylojarvi\n",
      "Processing Record 2 of Set 9 : tazovskiy\n",
      "Processing Record 3 of Set 9 : aljezur\n",
      "Processing Record 4 of Set 9 : hit\n",
      "Processing Record 5 of Set 9 : eyl\n",
      "Processing Record 6 of Set 9 : geraldton\n",
      "Processing Record 7 of Set 9 : wanganui\n",
      "Processing Record 8 of Set 9 : letterkenny\n",
      "Processing Record 9 of Set 9 : ewa beach\n",
      "City not found. Skipping...\n",
      "City not found. Skipping...\n",
      "Processing Record 10 of Set 9 : charyshskoye\n",
      "Processing Record 11 of Set 9 : cayenne\n",
      "Processing Record 12 of Set 9 : rovaniemi\n",
      "Processing Record 13 of Set 9 : barra\n",
      "Processing Record 14 of Set 9 : verkhnyaya inta\n",
      "Processing Record 15 of Set 9 : lhokseumawe\n",
      "Processing Record 16 of Set 9 : tura\n",
      "Processing Record 17 of Set 9 : coahuayana\n",
      "Processing Record 18 of Set 9 : kihurio\n",
      "Processing Record 19 of Set 9 : isangel\n",
      "Processing Record 20 of Set 9 : itoman\n",
      "Processing Record 21 of Set 9 : birao\n",
      "Processing Record 22 of Set 9 : panlaitan\n",
      "Processing Record 23 of Set 9 : sao raimundo nonato\n",
      "Processing Record 24 of Set 9 : bonavista\n",
      "Processing Record 25 of Set 9 : namibe\n",
      "Processing Record 26 of Set 9 : treinta y tres\n",
      "Processing Record 27 of Set 9 : morropon\n",
      "Processing Record 28 of Set 9 : aketi\n",
      "Processing Record 29 of Set 9 : adrar\n",
      "Processing Record 30 of Set 9 : enumclaw\n",
      "Processing Record 31 of Set 9 : eenhana\n",
      "Processing Record 32 of Set 9 : sioux lookout\n",
      "Processing Record 33 of Set 9 : san jose\n",
      "Processing Record 34 of Set 9 : pimentel\n",
      "Processing Record 35 of Set 9 : ifanadiana\n",
      "Processing Record 36 of Set 9 : urumqi\n",
      "Processing Record 37 of Set 9 : sfantu gheorghe\n",
      "Processing Record 38 of Set 9 : itacoatiara\n",
      "Processing Record 39 of Set 9 : alyangula\n",
      "Processing Record 40 of Set 9 : mogadishu\n",
      "Processing Record 41 of Set 9 : pedreiras\n",
      "Processing Record 42 of Set 9 : gizo\n",
      "Processing Record 43 of Set 9 : marquette\n",
      "Processing Record 44 of Set 9 : kavaratti\n",
      "Processing Record 45 of Set 9 : galveston\n",
      "City not found. Skipping...\n",
      "Processing Record 46 of Set 9 : valle del guamuez\n",
      "Processing Record 47 of Set 9 : honiara\n",
      "Processing Record 48 of Set 9 : waitati\n",
      "Processing Record 49 of Set 9 : souillac\n",
      "Processing Record 50 of Set 9 : kaka\n",
      "Processing Record 1 of Set 10 : vesyegonsk\n",
      "Processing Record 2 of Set 10 : harnoli\n",
      "Processing Record 3 of Set 10 : tuatapere\n",
      "Processing Record 4 of Set 10 : itarema\n",
      "Processing Record 5 of Set 10 : la seyne-sur-mer\n",
      "Processing Record 6 of Set 10 : udachnyy\n",
      "Processing Record 7 of Set 10 : mount gambier\n",
      "City not found. Skipping...\n",
      "Processing Record 8 of Set 10 : saint paul\n",
      "Processing Record 9 of Set 10 : kahului\n",
      "Processing Record 10 of Set 10 : nkhata bay\n",
      "Processing Record 11 of Set 10 : gracac\n",
      "Processing Record 12 of Set 10 : santa rosa\n",
      "Processing Record 13 of Set 10 : shimanovsk\n",
      "Processing Record 14 of Set 10 : pedernales\n",
      "Processing Record 15 of Set 10 : maumere\n",
      "Processing Record 16 of Set 10 : thinadhoo\n",
      "Processing Record 17 of Set 10 : opuwo\n",
      "Processing Record 18 of Set 10 : plettenberg bay\n",
      "Processing Record 19 of Set 10 : barra patuca\n",
      "Processing Record 20 of Set 10 : elat\n",
      "Processing Record 21 of Set 10 : montrose\n",
      "Processing Record 22 of Set 10 : jabinyanah\n",
      "City not found. Skipping...\n",
      "City not found. Skipping...\n",
      "Processing Record 23 of Set 10 : churapcha\n",
      "Processing Record 24 of Set 10 : derzhavinsk\n",
      "Processing Record 25 of Set 10 : walvis bay\n",
      "Processing Record 26 of Set 10 : andenes\n",
      "Processing Record 27 of Set 10 : elbrus\n",
      "Processing Record 28 of Set 10 : qaqortoq\n",
      "City not found. Skipping...\n",
      "Processing Record 29 of Set 10 : taoudenni\n",
      "City not found. Skipping...\n",
      "Processing Record 30 of Set 10 : lata\n",
      "Processing Record 31 of Set 10 : new bern\n",
      "Processing Record 32 of Set 10 : marzuq\n",
      "Processing Record 33 of Set 10 : santa maria\n",
      "City not found. Skipping...\n",
      "Processing Record 34 of Set 10 : manokwari\n",
      "Processing Record 35 of Set 10 : luanda\n",
      "Processing Record 36 of Set 10 : shieli\n",
      "Processing Record 37 of Set 10 : glazov\n",
      "Processing Record 38 of Set 10 : pandan\n",
      "Processing Record 39 of Set 10 : brumunddal\n",
      "Processing Record 40 of Set 10 : concarneau\n",
      "Processing Record 41 of Set 10 : deputatskiy\n",
      "Processing Record 42 of Set 10 : sunrise manor\n",
      "Processing Record 43 of Set 10 : nishihara\n",
      "Processing Record 44 of Set 10 : buriti alegre\n",
      "Processing Record 45 of Set 10 : ciudad bolivar\n",
      "Processing Record 46 of Set 10 : andilamena\n",
      "Processing Record 47 of Set 10 : west bay\n",
      "Processing Record 48 of Set 10 : hilton head island\n",
      "Processing Record 49 of Set 10 : zyryanka\n",
      "Processing Record 50 of Set 10 : gigmoto\n",
      "Processing Record 1 of Set 11 : abha\n",
      "City not found. Skipping...\n",
      "City not found. Skipping...\n",
      "Processing Record 2 of Set 11 : saquena\n",
      "Processing Record 3 of Set 11 : kaitangata\n",
      "Processing Record 4 of Set 11 : chaihe\n",
      "Processing Record 5 of Set 11 : sakhipur\n",
      "Processing Record 6 of Set 11 : rondonopolis\n",
      "Processing Record 7 of Set 11 : qorveh\n",
      "Processing Record 8 of Set 11 : kargasok\n",
      "Processing Record 9 of Set 11 : port macquarie\n",
      "Processing Record 10 of Set 11 : haines junction\n",
      "Processing Record 11 of Set 11 : dickinson\n",
      "Processing Record 12 of Set 11 : sorong\n",
      "Processing Record 13 of Set 11 : cockburn town\n",
      "Processing Record 14 of Set 11 : ramnagar\n",
      "Processing Record 15 of Set 11 : kushima\n",
      "Processing Record 16 of Set 11 : penticton\n",
      "Processing Record 17 of Set 11 : karratha\n",
      "Processing Record 18 of Set 11 : pyay\n",
      "Processing Record 19 of Set 11 : katesh\n",
      "Processing Record 20 of Set 11 : glendive\n",
      "Processing Record 21 of Set 11 : carndonagh\n",
      "City not found. Skipping...\n",
      "City not found. Skipping...\n",
      "Processing Record 22 of Set 11 : lorengau\n",
      "Processing Record 23 of Set 11 : envira\n",
      "Processing Record 24 of Set 11 : pelym\n",
      "Processing Record 25 of Set 11 : puerto cabezas\n",
      "Processing Record 26 of Set 11 : oster\n",
      "Processing Record 27 of Set 11 : tommot\n",
      "Processing Record 28 of Set 11 : fethiye\n",
      "Processing Record 29 of Set 11 : ola\n",
      "Processing Record 30 of Set 11 : porto velho\n",
      "Processing Record 31 of Set 11 : natal\n",
      "City not found. Skipping...\n",
      "Processing Record 32 of Set 11 : sao bento\n",
      "Processing Record 33 of Set 11 : onufriyivka\n",
      "Processing Record 34 of Set 11 : pacific grove\n",
      "Processing Record 35 of Set 11 : necochea\n",
      "Processing Record 36 of Set 11 : imeni babushkina\n",
      "Processing Record 37 of Set 11 : bilibino\n",
      "Processing Record 38 of Set 11 : santa ines\n",
      "Processing Record 39 of Set 11 : atambua\n",
      "Processing Record 40 of Set 11 : chapais\n",
      "Processing Record 41 of Set 11 : tessalit\n",
      "Processing Record 42 of Set 11 : qasigiannguit\n",
      "Processing Record 43 of Set 11 : saint-augustin\n",
      "City not found. Skipping...\n",
      "Processing Record 44 of Set 11 : barcelos\n",
      "Processing Record 45 of Set 11 : meulaboh\n",
      "Processing Record 46 of Set 11 : beyneu\n",
      "Processing Record 47 of Set 11 : tiarei\n",
      "Processing Record 48 of Set 11 : tougue\n",
      "Processing Record 49 of Set 11 : viedma\n",
      "Processing Record 50 of Set 11 : lookan\n",
      "Processing Record 1 of Set 12 : umm lajj\n",
      "Processing Record 2 of Set 12 : ballina\n",
      "Processing Record 3 of Set 12 : oussouye\n",
      "Processing Record 4 of Set 12 : aldan\n",
      "Processing Record 5 of Set 12 : boa vista\n",
      "Processing Record 6 of Set 12 : taybad\n",
      "City not found. Skipping...\n",
      "Processing Record 7 of Set 12 : ust-uda\n",
      "Processing Record 8 of Set 12 : yakeshi\n",
      "Processing Record 9 of Set 12 : biak\n",
      "Processing Record 10 of Set 12 : aasiaat\n",
      "Processing Record 11 of Set 12 : sale\n",
      "Processing Record 12 of Set 12 : valparaiso\n",
      "Processing Record 13 of Set 12 : tupiza\n",
      "Processing Record 14 of Set 12 : hayvoron\n"
     ]
    },
    {
     "name": "stdout",
     "output_type": "stream",
     "text": [
      "Processing Record 15 of Set 12 : muros\n",
      "Processing Record 16 of Set 12 : voronovytsya\n",
      "Processing Record 17 of Set 12 : college\n",
      "Processing Record 18 of Set 12 : belmonte\n",
      "Processing Record 19 of Set 12 : jabbeke\n",
      "Processing Record 20 of Set 12 : farim\n",
      "Processing Record 21 of Set 12 : waddan\n",
      "Processing Record 22 of Set 12 : porto novo\n",
      "Processing Record 23 of Set 12 : perth\n",
      "Processing Record 24 of Set 12 : beloha\n",
      "-----------------------------\n",
      "Data Retrieval Complete\n",
      "-----------------------------\n"
     ]
    }
   ],
   "source": [
    "print(\"Beginning Data Retrieval \")\n",
    "print(\"-----------------------------\")\n",
    "\n",
    "base_url=\"http://api.openweathermap.org/data/2.5/weather?\"\n",
    "units = \"imperial\"\n",
    "query_url = f\"{base_url}appid={weather_api_key}&units={units}&q=\"\n",
    "\n",
    "for index, city in enumerate(cities, start = 1):\n",
    "    try:\n",
    "        response = requests.get(query_url + city).json()\n",
    "        city_list.append(response[\"name\"])\n",
    "        cloud_list.append(response[\"clouds\"][\"all\"])\n",
    "        country_list.append(response[\"sys\"][\"country\"])\n",
    "        date_list.append(response[\"dt\"])\n",
    "        humidity_list.append(response[\"main\"][\"humidity\"])\n",
    "        lat_list.append(response[\"coord\"][\"lat\"])\n",
    "        lng_list.append(response[\"coord\"][\"lon\"])\n",
    "        max_temp_list.append(response['main']['temp_max'])\n",
    "        wind_speed_list.append(response[\"wind\"][\"speed\"])\n",
    "        if index_counter > 49:\n",
    "            index_counter = 0\n",
    "            set_counter = set_counter + 1\n",
    "    \n",
    "        else:\n",
    "            index_counter = index_counter + 1\n",
    "            print(f\"Processing Record {index_counter} of Set {set_counter} : {city}\") \n",
    "  \n",
    "    except(KeyError, IndexError):\n",
    "        print(\"City not found. Skipping...\")\n",
    "\n",
    "print(\"-----------------------------\")\n",
    "print(\"Data Retrieval Complete\")\n",
    "print(\"-----------------------------\")\n",
    "            \n",
    "\n"
   ]
  },
  {
   "cell_type": "markdown",
   "metadata": {},
   "source": [
    "### Convert Raw Data to DataFrame\n",
    "* Export the city data into a .csv.\n",
    "* Display the DataFrame"
   ]
  },
  {
   "cell_type": "code",
   "execution_count": 77,
   "metadata": {},
   "outputs": [],
   "source": [
    "weather_dict = pd.DataFrame({ \n",
    "                \"City\" : city_list,\n",
    "                \"Cloudiness\" : cloud_list,\n",
    "                \"Country\" : country_list,\n",
    "                \"Date\" : date_list,\n",
    "                \"Humidity\" : humidity_list,\n",
    "                \"Lat\" : lat_list,\n",
    "                \"Lng\" : lng_list,\n",
    "                \"Max Temp\" : max_temp_list,\n",
    "                \"Wind Speed\" : wind_speed_list\n",
    "})\n"
   ]
  },
  {
   "cell_type": "code",
   "execution_count": 78,
   "metadata": {},
   "outputs": [
    {
     "data": {
      "text/html": [
       "<div>\n",
       "<style scoped>\n",
       "    .dataframe tbody tr th:only-of-type {\n",
       "        vertical-align: middle;\n",
       "    }\n",
       "\n",
       "    .dataframe tbody tr th {\n",
       "        vertical-align: top;\n",
       "    }\n",
       "\n",
       "    .dataframe thead th {\n",
       "        text-align: right;\n",
       "    }\n",
       "</style>\n",
       "<table border=\"1\" class=\"dataframe\">\n",
       "  <thead>\n",
       "    <tr style=\"text-align: right;\">\n",
       "      <th></th>\n",
       "      <th>City</th>\n",
       "      <th>Cloudiness</th>\n",
       "      <th>Country</th>\n",
       "      <th>Date</th>\n",
       "      <th>Humidity</th>\n",
       "      <th>Lat</th>\n",
       "      <th>Lng</th>\n",
       "      <th>Max Temp</th>\n",
       "      <th>Wind Speed</th>\n",
       "    </tr>\n",
       "  </thead>\n",
       "  <tbody>\n",
       "    <tr>\n",
       "      <th>0</th>\n",
       "      <td>Katsuura</td>\n",
       "      <td>20</td>\n",
       "      <td>JP</td>\n",
       "      <td>1597176503</td>\n",
       "      <td>83</td>\n",
       "      <td>35.13</td>\n",
       "      <td>140.30</td>\n",
       "      <td>82.40</td>\n",
       "      <td>17.22</td>\n",
       "    </tr>\n",
       "    <tr>\n",
       "      <th>1</th>\n",
       "      <td>Rikitea</td>\n",
       "      <td>100</td>\n",
       "      <td>PF</td>\n",
       "      <td>1597176503</td>\n",
       "      <td>68</td>\n",
       "      <td>-23.12</td>\n",
       "      <td>-134.97</td>\n",
       "      <td>71.24</td>\n",
       "      <td>19.89</td>\n",
       "    </tr>\n",
       "    <tr>\n",
       "      <th>2</th>\n",
       "      <td>Iqaluit</td>\n",
       "      <td>40</td>\n",
       "      <td>CA</td>\n",
       "      <td>1597176208</td>\n",
       "      <td>26</td>\n",
       "      <td>63.75</td>\n",
       "      <td>-68.51</td>\n",
       "      <td>59.00</td>\n",
       "      <td>14.99</td>\n",
       "    </tr>\n",
       "    <tr>\n",
       "      <th>3</th>\n",
       "      <td>Ribeira Grande</td>\n",
       "      <td>20</td>\n",
       "      <td>PT</td>\n",
       "      <td>1597176503</td>\n",
       "      <td>53</td>\n",
       "      <td>38.52</td>\n",
       "      <td>-28.70</td>\n",
       "      <td>75.20</td>\n",
       "      <td>8.05</td>\n",
       "    </tr>\n",
       "    <tr>\n",
       "      <th>4</th>\n",
       "      <td>Kloulklubed</td>\n",
       "      <td>1</td>\n",
       "      <td>PW</td>\n",
       "      <td>1597176503</td>\n",
       "      <td>70</td>\n",
       "      <td>7.04</td>\n",
       "      <td>134.26</td>\n",
       "      <td>83.79</td>\n",
       "      <td>3.27</td>\n",
       "    </tr>\n",
       "    <tr>\n",
       "      <th>...</th>\n",
       "      <td>...</td>\n",
       "      <td>...</td>\n",
       "      <td>...</td>\n",
       "      <td>...</td>\n",
       "      <td>...</td>\n",
       "      <td>...</td>\n",
       "      <td>...</td>\n",
       "      <td>...</td>\n",
       "      <td>...</td>\n",
       "    </tr>\n",
       "    <tr>\n",
       "      <th>580</th>\n",
       "      <td>Farim</td>\n",
       "      <td>94</td>\n",
       "      <td>GW</td>\n",
       "      <td>1597176572</td>\n",
       "      <td>90</td>\n",
       "      <td>12.48</td>\n",
       "      <td>-15.22</td>\n",
       "      <td>77.88</td>\n",
       "      <td>7.07</td>\n",
       "    </tr>\n",
       "    <tr>\n",
       "      <th>581</th>\n",
       "      <td>Waddān</td>\n",
       "      <td>11</td>\n",
       "      <td>LY</td>\n",
       "      <td>1597176572</td>\n",
       "      <td>32</td>\n",
       "      <td>29.16</td>\n",
       "      <td>16.14</td>\n",
       "      <td>87.85</td>\n",
       "      <td>21.99</td>\n",
       "    </tr>\n",
       "    <tr>\n",
       "      <th>582</th>\n",
       "      <td>Porto-Novo</td>\n",
       "      <td>20</td>\n",
       "      <td>BJ</td>\n",
       "      <td>1597176572</td>\n",
       "      <td>88</td>\n",
       "      <td>6.50</td>\n",
       "      <td>2.60</td>\n",
       "      <td>77.00</td>\n",
       "      <td>5.82</td>\n",
       "    </tr>\n",
       "    <tr>\n",
       "      <th>583</th>\n",
       "      <td>Perth</td>\n",
       "      <td>75</td>\n",
       "      <td>AU</td>\n",
       "      <td>1597176525</td>\n",
       "      <td>93</td>\n",
       "      <td>-31.93</td>\n",
       "      <td>115.83</td>\n",
       "      <td>55.99</td>\n",
       "      <td>11.03</td>\n",
       "    </tr>\n",
       "    <tr>\n",
       "      <th>584</th>\n",
       "      <td>Beloha</td>\n",
       "      <td>0</td>\n",
       "      <td>MG</td>\n",
       "      <td>1597176572</td>\n",
       "      <td>80</td>\n",
       "      <td>-25.17</td>\n",
       "      <td>45.05</td>\n",
       "      <td>59.34</td>\n",
       "      <td>4.90</td>\n",
       "    </tr>\n",
       "  </tbody>\n",
       "</table>\n",
       "<p>585 rows × 9 columns</p>\n",
       "</div>"
      ],
      "text/plain": [
       "               City  Cloudiness Country        Date  Humidity    Lat     Lng  \\\n",
       "0          Katsuura          20      JP  1597176503        83  35.13  140.30   \n",
       "1           Rikitea         100      PF  1597176503        68 -23.12 -134.97   \n",
       "2           Iqaluit          40      CA  1597176208        26  63.75  -68.51   \n",
       "3    Ribeira Grande          20      PT  1597176503        53  38.52  -28.70   \n",
       "4       Kloulklubed           1      PW  1597176503        70   7.04  134.26   \n",
       "..              ...         ...     ...         ...       ...    ...     ...   \n",
       "580           Farim          94      GW  1597176572        90  12.48  -15.22   \n",
       "581          Waddān          11      LY  1597176572        32  29.16   16.14   \n",
       "582      Porto-Novo          20      BJ  1597176572        88   6.50    2.60   \n",
       "583           Perth          75      AU  1597176525        93 -31.93  115.83   \n",
       "584          Beloha           0      MG  1597176572        80 -25.17   45.05   \n",
       "\n",
       "     Max Temp  Wind Speed  \n",
       "0       82.40       17.22  \n",
       "1       71.24       19.89  \n",
       "2       59.00       14.99  \n",
       "3       75.20        8.05  \n",
       "4       83.79        3.27  \n",
       "..        ...         ...  \n",
       "580     77.88        7.07  \n",
       "581     87.85       21.99  \n",
       "582     77.00        5.82  \n",
       "583     55.99       11.03  \n",
       "584     59.34        4.90  \n",
       "\n",
       "[585 rows x 9 columns]"
      ]
     },
     "execution_count": 78,
     "metadata": {},
     "output_type": "execute_result"
    }
   ],
   "source": [
    "weather_dict"
   ]
  },
  {
   "cell_type": "markdown",
   "metadata": {},
   "source": [
    "## Inspect the data and remove the cities where the humidity > 100%.\n",
    "----\n",
    "Skip this step if there are no cities that have humidity > 100%. "
   ]
  },
  {
   "cell_type": "code",
   "execution_count": 79,
   "metadata": {},
   "outputs": [
    {
     "data": {
      "text/html": [
       "<div>\n",
       "<style scoped>\n",
       "    .dataframe tbody tr th:only-of-type {\n",
       "        vertical-align: middle;\n",
       "    }\n",
       "\n",
       "    .dataframe tbody tr th {\n",
       "        vertical-align: top;\n",
       "    }\n",
       "\n",
       "    .dataframe thead th {\n",
       "        text-align: right;\n",
       "    }\n",
       "</style>\n",
       "<table border=\"1\" class=\"dataframe\">\n",
       "  <thead>\n",
       "    <tr style=\"text-align: right;\">\n",
       "      <th></th>\n",
       "      <th>City</th>\n",
       "      <th>Cloudiness</th>\n",
       "      <th>Country</th>\n",
       "      <th>Date</th>\n",
       "      <th>Humidity</th>\n",
       "      <th>Lat</th>\n",
       "      <th>Lng</th>\n",
       "      <th>Max Temp</th>\n",
       "      <th>Wind Speed</th>\n",
       "    </tr>\n",
       "  </thead>\n",
       "  <tbody>\n",
       "  </tbody>\n",
       "</table>\n",
       "</div>"
      ],
      "text/plain": [
       "Empty DataFrame\n",
       "Columns: [City, Cloudiness, Country, Date, Humidity, Lat, Lng, Max Temp, Wind Speed]\n",
       "Index: []"
      ]
     },
     "execution_count": 79,
     "metadata": {},
     "output_type": "execute_result"
    }
   ],
   "source": [
    "humidity_100 = weather_dict.loc[weather_dict['Humidity']>100]\n",
    "humidity_100"
   ]
  },
  {
   "cell_type": "code",
   "execution_count": 47,
   "metadata": {},
   "outputs": [],
   "source": [
    "# no cities with humidity > 100 - Skip"
   ]
  },
  {
   "cell_type": "code",
   "execution_count": 48,
   "metadata": {},
   "outputs": [],
   "source": [
    "#  Get the indices of cities that have humidity over 100%.\n",
    "#skip"
   ]
  },
  {
   "cell_type": "code",
   "execution_count": 49,
   "metadata": {},
   "outputs": [],
   "source": [
    "# Make a new DataFrame equal to the city data to drop all humidity outliers by index.\n",
    "# Passing \"inplace=False\" will make a copy of the city_data DataFrame, which we call \"clean_city_data\".\n",
    "#skip"
   ]
  },
  {
   "cell_type": "code",
   "execution_count": 9,
   "metadata": {},
   "outputs": [],
   "source": [
    "# Extract relevant fields from the data frame\n",
    "#Skip\n",
    "# Export the City_Data into a csv\n"
   ]
  },
  {
   "cell_type": "markdown",
   "metadata": {},
   "source": [
    "## Plotting the Data\n",
    "* Use proper labeling of the plots using plot titles (including date of analysis) and axes labels.\n",
    "* Save the plotted figures as .pngs."
   ]
  },
  {
   "cell_type": "markdown",
   "metadata": {},
   "source": [
    "## Latitude vs. Temperature Plot"
   ]
  },
  {
   "cell_type": "code",
   "execution_count": 80,
   "metadata": {
    "scrolled": true
   },
   "outputs": [
    {
     "data": {
      "image/png": "[encoded data removed]",
      "text/plain": [
       "<Figure size 432x288 with 1 Axes>"
      ]
     },
     "metadata": {
      "needs_background": "light"
     },
     "output_type": "display_data"
    }
   ],
   "source": [
    "# Create Latitude vs. Temperature Plot scatter plot\n",
    "plt.scatter(weather_dict[\"Lat\"], weather_dict[\"Max Temp\"], facecolor = \"red\", edgecolor = \"black\")\n",
    "\n",
    "# Set title\n",
    "plt.title(\"City Latitude vs. Max Temperature (08/11/20)\")\n",
    "\n",
    "# Set x axis label\n",
    "plt.xlabel(\"Latitude\")\n",
    "\n",
    "# Set y axis label\n",
    "plt.ylabel(\"Max Temperature (F)\")\n",
    "\n",
    "# Set grid line\n",
    "plt.grid(linestyle='-', linewidth=1, alpha = 0.5)\n",
    "\n",
    "# Save the plotted figure as .pngs\n",
    "plt.savefig(\"../Images/City Latitude vs Max Temperature.png\")"
   ]
  },
  {
   "cell_type": "markdown",
   "metadata": {},
   "source": [
    "## Latitude vs. Humidity Plot"
   ]
  },
  {
   "cell_type": "code",
   "execution_count": 81,
   "metadata": {},
   "outputs": [
    {
     "data": {
      "image/png": "[encoded data removed]",
      "text/plain": [
       "<Figure size 432x288 with 1 Axes>"
      ]
     },
     "metadata": {
      "needs_background": "light"
     },
     "output_type": "display_data"
    }
   ],
   "source": [
    "# Create Latitude vs. Humidity Plot scatter plot\n",
    "plt.scatter(weather_dict[\"Lat\"], weather_dict[\"Humidity\"], facecolor = \"blue\", edgecolor = \"black\")\n",
    "\n",
    "# Set title\n",
    "plt.title(\"City Latitude vs Humidity (08/11/20)\")\n",
    "\n",
    "# Set x axis label\n",
    "plt.xlabel(\"Latitude\")\n",
    "\n",
    "# Set y axis label\n",
    "plt.ylabel(\"Humidity (%)\")\n",
    "\n",
    "# Set grid line\n",
    "plt.grid(linestyle='-', linewidth=1, alpha = 0.5)\n",
    "\n",
    "# Save the plotted figure as .pngs\n",
    "plt.savefig(\"../Images/City Latitude vs Humidity.png\")"
   ]
  },
  {
   "cell_type": "markdown",
   "metadata": {},
   "source": [
    "## Latitude vs. Cloudiness Plot"
   ]
  },
  {
   "cell_type": "code",
   "execution_count": 82,
   "metadata": {},
   "outputs": [
    {
     "data": {
      "image/png": "[encoded data removed]",
      "text/plain": [
       "<Figure size 432x288 with 1 Axes>"
      ]
     },
     "metadata": {
      "needs_background": "light"
     },
     "output_type": "display_data"
    }
   ],
   "source": [
    "# Create Latitude vs. Cloudiness Plot scatter plot\n",
    "plt.scatter(weather_dict[\"Lat\"], weather_dict[\"Cloudiness\"], facecolor = \"darkgrey\", edgecolor = \"black\")\n",
    "\n",
    "# Set title\n",
    "plt.title(\"City Latitude vs Cloudiness (08/11/20)\")\n",
    "\n",
    "# Set x axis label\n",
    "plt.xlabel(\"Latitude\")\n",
    "\n",
    "# Set y axis label\n",
    "plt.ylabel(\"Cloudiness (%)\")\n",
    "\n",
    "# Set grid line\n",
    "plt.grid(linestyle='-', linewidth=1, alpha = 0.5)\n",
    "\n",
    "# Save the plotted figure as .pngs\n",
    "plt.savefig(\"../Images/City Latitude vs Cloudiness.png\")"
   ]
  },
  {
   "cell_type": "markdown",
   "metadata": {},
   "source": [
    "## Latitude vs. Wind Speed Plot"
   ]
  },
  {
   "cell_type": "code",
   "execution_count": 83,
   "metadata": {},
   "outputs": [
    {
     "data": {
      "image/png": "[encoded data removed]",
      "text/plain": [
       "<Figure size 432x288 with 1 Axes>"
      ]
     },
     "metadata": {
      "needs_background": "light"
     },
     "output_type": "display_data"
    }
   ],
   "source": [
    "# Create Latitude vs. Wind Speed Plot scatter plot\n",
    "plt.scatter(weather_dict[\"Lat\"], weather_dict[\"Wind Speed\"], facecolor = \"green\", edgecolor = \"black\")\n",
    "\n",
    "# Set title\n",
    "plt.title(\"City Latitude vs Wind Speed (08/11/20)\")\n",
    "\n",
    "# Set x axis label\n",
    "plt.xlabel(\"Latitude\")\n",
    "\n",
    "# Set y axis label\n",
    "plt.ylabel(\"Wind Speed (mph)\")\n",
    "\n",
    "# Set grid line\n",
    "plt.grid(linestyle='-', linewidth=1, alpha = 0.5)\n",
    "\n",
    "# Save the plotted figure as .pngs\n",
    "plt.savefig(\"../Images/City Latitude vs Wind Speed.png\")"
   ]
  },
  {
   "cell_type": "markdown",
   "metadata": {},
   "source": [
    "## Linear Regression"
   ]
  },
  {
   "cell_type": "code",
   "execution_count": 94,
   "metadata": {},
   "outputs": [],
   "source": [
    "# OPTIONAL: Create a function to create Linear Regression plots\n",
    "def linear_regression(x,y):\n",
    "    print(f\"The r-squared is : {round(st.pearsonr(x, y)[0],2)}\")\n",
    "    (slope, intercept, rvalue, pvalue, stderr) = linregress(x, y)\n",
    "    regress_values = x * slope + intercept\n",
    "    line_eq = \"y = \" + str(round(slope,2)) + \"x + \" + str(round(intercept,2))\n",
    "    plt.scatter(x, y)\n",
    "    plt.plot(x,regress_values,\"r-\")\n",
    "    return line_eq\n",
    "\n",
    "def annotate(line_eq, a, b):\n",
    "    plt.annotate(line_eq,(a,b),fontsize=15,color=\"red\")"
   ]
  },
  {
   "cell_type": "code",
   "execution_count": 95,
   "metadata": {},
   "outputs": [
    {
     "data": {
      "text/html": [
       "<div>\n",
       "<style scoped>\n",
       "    .dataframe tbody tr th:only-of-type {\n",
       "        vertical-align: middle;\n",
       "    }\n",
       "\n",
       "    .dataframe tbody tr th {\n",
       "        vertical-align: top;\n",
       "    }\n",
       "\n",
       "    .dataframe thead th {\n",
       "        text-align: right;\n",
       "    }\n",
       "</style>\n",
       "<table border=\"1\" class=\"dataframe\">\n",
       "  <thead>\n",
       "    <tr style=\"text-align: right;\">\n",
       "      <th></th>\n",
       "      <th>City</th>\n",
       "      <th>Cloudiness</th>\n",
       "      <th>Country</th>\n",
       "      <th>Date</th>\n",
       "      <th>Humidity</th>\n",
       "      <th>Lat</th>\n",
       "      <th>Lng</th>\n",
       "      <th>Max Temp</th>\n",
       "      <th>Wind Speed</th>\n",
       "    </tr>\n",
       "  </thead>\n",
       "  <tbody>\n",
       "    <tr>\n",
       "      <th>0</th>\n",
       "      <td>Katsuura</td>\n",
       "      <td>20</td>\n",
       "      <td>JP</td>\n",
       "      <td>1597176503</td>\n",
       "      <td>83</td>\n",
       "      <td>35.13</td>\n",
       "      <td>140.30</td>\n",
       "      <td>82.40</td>\n",
       "      <td>17.22</td>\n",
       "    </tr>\n",
       "    <tr>\n",
       "      <th>2</th>\n",
       "      <td>Iqaluit</td>\n",
       "      <td>40</td>\n",
       "      <td>CA</td>\n",
       "      <td>1597176208</td>\n",
       "      <td>26</td>\n",
       "      <td>63.75</td>\n",
       "      <td>-68.51</td>\n",
       "      <td>59.00</td>\n",
       "      <td>14.99</td>\n",
       "    </tr>\n",
       "    <tr>\n",
       "      <th>3</th>\n",
       "      <td>Ribeira Grande</td>\n",
       "      <td>20</td>\n",
       "      <td>PT</td>\n",
       "      <td>1597176503</td>\n",
       "      <td>53</td>\n",
       "      <td>38.52</td>\n",
       "      <td>-28.70</td>\n",
       "      <td>75.20</td>\n",
       "      <td>8.05</td>\n",
       "    </tr>\n",
       "    <tr>\n",
       "      <th>4</th>\n",
       "      <td>Kloulklubed</td>\n",
       "      <td>1</td>\n",
       "      <td>PW</td>\n",
       "      <td>1597176503</td>\n",
       "      <td>70</td>\n",
       "      <td>7.04</td>\n",
       "      <td>134.26</td>\n",
       "      <td>83.79</td>\n",
       "      <td>3.27</td>\n",
       "    </tr>\n",
       "    <tr>\n",
       "      <th>6</th>\n",
       "      <td>Torbay</td>\n",
       "      <td>20</td>\n",
       "      <td>CA</td>\n",
       "      <td>1597176314</td>\n",
       "      <td>65</td>\n",
       "      <td>47.67</td>\n",
       "      <td>-52.73</td>\n",
       "      <td>78.80</td>\n",
       "      <td>13.87</td>\n",
       "    </tr>\n",
       "    <tr>\n",
       "      <th>...</th>\n",
       "      <td>...</td>\n",
       "      <td>...</td>\n",
       "      <td>...</td>\n",
       "      <td>...</td>\n",
       "      <td>...</td>\n",
       "      <td>...</td>\n",
       "      <td>...</td>\n",
       "      <td>...</td>\n",
       "      <td>...</td>\n",
       "    </tr>\n",
       "    <tr>\n",
       "      <th>577</th>\n",
       "      <td>College</td>\n",
       "      <td>75</td>\n",
       "      <td>US</td>\n",
       "      <td>1597176571</td>\n",
       "      <td>76</td>\n",
       "      <td>64.86</td>\n",
       "      <td>-147.80</td>\n",
       "      <td>57.99</td>\n",
       "      <td>1.32</td>\n",
       "    </tr>\n",
       "    <tr>\n",
       "      <th>579</th>\n",
       "      <td>Jabbeke</td>\n",
       "      <td>73</td>\n",
       "      <td>BE</td>\n",
       "      <td>1597176571</td>\n",
       "      <td>73</td>\n",
       "      <td>51.19</td>\n",
       "      <td>3.10</td>\n",
       "      <td>75.99</td>\n",
       "      <td>9.17</td>\n",
       "    </tr>\n",
       "    <tr>\n",
       "      <th>580</th>\n",
       "      <td>Farim</td>\n",
       "      <td>94</td>\n",
       "      <td>GW</td>\n",
       "      <td>1597176572</td>\n",
       "      <td>90</td>\n",
       "      <td>12.48</td>\n",
       "      <td>-15.22</td>\n",
       "      <td>77.88</td>\n",
       "      <td>7.07</td>\n",
       "    </tr>\n",
       "    <tr>\n",
       "      <th>581</th>\n",
       "      <td>Waddān</td>\n",
       "      <td>11</td>\n",
       "      <td>LY</td>\n",
       "      <td>1597176572</td>\n",
       "      <td>32</td>\n",
       "      <td>29.16</td>\n",
       "      <td>16.14</td>\n",
       "      <td>87.85</td>\n",
       "      <td>21.99</td>\n",
       "    </tr>\n",
       "    <tr>\n",
       "      <th>582</th>\n",
       "      <td>Porto-Novo</td>\n",
       "      <td>20</td>\n",
       "      <td>BJ</td>\n",
       "      <td>1597176572</td>\n",
       "      <td>88</td>\n",
       "      <td>6.50</td>\n",
       "      <td>2.60</td>\n",
       "      <td>77.00</td>\n",
       "      <td>5.82</td>\n",
       "    </tr>\n",
       "  </tbody>\n",
       "</table>\n",
       "<p>396 rows × 9 columns</p>\n",
       "</div>"
      ],
      "text/plain": [
       "               City  Cloudiness Country        Date  Humidity    Lat     Lng  \\\n",
       "0          Katsuura          20      JP  1597176503        83  35.13  140.30   \n",
       "2           Iqaluit          40      CA  1597176208        26  63.75  -68.51   \n",
       "3    Ribeira Grande          20      PT  1597176503        53  38.52  -28.70   \n",
       "4       Kloulklubed           1      PW  1597176503        70   7.04  134.26   \n",
       "6            Torbay          20      CA  1597176314        65  47.67  -52.73   \n",
       "..              ...         ...     ...         ...       ...    ...     ...   \n",
       "577         College          75      US  1597176571        76  64.86 -147.80   \n",
       "579         Jabbeke          73      BE  1597176571        73  51.19    3.10   \n",
       "580           Farim          94      GW  1597176572        90  12.48  -15.22   \n",
       "581          Waddān          11      LY  1597176572        32  29.16   16.14   \n",
       "582      Porto-Novo          20      BJ  1597176572        88   6.50    2.60   \n",
       "\n",
       "     Max Temp  Wind Speed  \n",
       "0       82.40       17.22  \n",
       "2       59.00       14.99  \n",
       "3       75.20        8.05  \n",
       "4       83.79        3.27  \n",
       "6       78.80       13.87  \n",
       "..        ...         ...  \n",
       "577     57.99        1.32  \n",
       "579     75.99        9.17  \n",
       "580     77.88        7.07  \n",
       "581     87.85       21.99  \n",
       "582     77.00        5.82  \n",
       "\n",
       "[396 rows x 9 columns]"
      ]
     },
     "execution_count": 95,
     "metadata": {},
     "output_type": "execute_result"
    }
   ],
   "source": [
    "# Create Northern and Southern Hemisphere DataFrames\n",
    "Northern_Hemisphere = weather_dict.loc[weather_dict[\"Lat\"] >= 0]\n",
    "Northern_Hemisphere\n"
   ]
  },
  {
   "cell_type": "markdown",
   "metadata": {},
   "source": [
    "####  Northern Hemisphere - Max Temp vs. Latitude Linear Regression"
   ]
  },
  {
   "cell_type": "code",
   "execution_count": 112,
   "metadata": {},
   "outputs": [
    {
     "name": "stdout",
     "output_type": "stream",
     "text": [
      "The r-squared is : -0.74\n"
     ]
    },
    {
     "data": {
      "image/png": "[encoded data removed]",
      "text/plain": [
       "<Figure size 432x288 with 1 Axes>"
      ]
     },
     "metadata": {
      "needs_background": "light"
     },
     "output_type": "display_data"
    }
   ],
   "source": [
    "#Call Function\n",
    "equation = linear_regression(Northern_Hemisphere[\"Lat\"], Northern_Hemisphere[\"Max Temp\"])\n",
    "\n",
    "# Call an function #2\n",
    "annotate(equation, 0, 0)\n",
    "\n",
    "# Set xlabel\n",
    "plt.xlabel(\"Latitude\")\n",
    "\n",
    "# Set ylabel\n",
    "plt.ylabel(\"Max Temp\")\n",
    "\n",
    "# Save the figure\n",
    "plt.savefig(\"../Images/Northern Hemisphere - Max Temp vs. Latitude Linear Regression.png\")"
   ]
  },
  {
   "cell_type": "markdown",
   "metadata": {},
   "source": [
    "####  Southern Hemisphere - Max Temp vs. Latitude Linear Regression"
   ]
  },
  {
   "cell_type": "code",
   "execution_count": 113,
   "metadata": {},
   "outputs": [
    {
     "name": "stdout",
     "output_type": "stream",
     "text": [
      "The r-squared is : 0.8\n"
     ]
    },
    {
     "data": {
      "image/png": "[encoded data removed]",
      "text/plain": [
       "<Figure size 432x288 with 1 Axes>"
      ]
     },
     "metadata": {
      "needs_background": "light"
     },
     "output_type": "display_data"
    }
   ],
   "source": [
    "south_hemisphere = weather_dict.loc[weather_dict[\"Lat\"] < 0]\n",
    "south_hemisphere\n",
    "# Call function #1\n",
    "equation = linear_regression(south_hemisphere[\"Lat\"],south_hemisphere[\"Max Temp\"])\n",
    "\n",
    "# Call function #2\n",
    "annotate(equation, -30, 50)\n",
    "\n",
    "# Set xlabel\n",
    "plt.xlabel(\"Latitude\")\n",
    "\n",
    "# Set ylabel\n",
    "plt.ylabel(\"Max Temp\")\n",
    "\n",
    "# Save the figure\n",
    "plt.savefig(\"../Images/Southern Hemisphere - Max Temp vs. Latitude Linear Regression.png\")"
   ]
  },
  {
   "cell_type": "markdown",
   "metadata": {},
   "source": [
    "####  Northern Hemisphere - Humidity (%) vs. Latitude Linear Regression"
   ]
  },
  {
   "cell_type": "code",
   "execution_count": 114,
   "metadata": {},
   "outputs": [
    {
     "name": "stdout",
     "output_type": "stream",
     "text": [
      "The r-squared is : 0.09\n"
     ]
    },
    {
     "data": {
      "image/png": "[encoded data removed]",
      "text/plain": [
       "<Figure size 432x288 with 1 Axes>"
      ]
     },
     "metadata": {
      "needs_background": "light"
     },
     "output_type": "display_data"
    }
   ],
   "source": [
    "# Call function #1\n",
    "equation = linear_regression(Northern_Hemisphere[\"Lat\"],Northern_Hemisphere[\"Humidity\"])\n",
    "\n",
    "# Call function #2\n",
    "annotate(equation, 40, 15)\n",
    "\n",
    "# Set xlabel\n",
    "plt.xlabel(\"Latitude\")\n",
    "\n",
    "# Set ylabel\n",
    "plt.ylabel(\"Humidity\")\n",
    "\n",
    "# Save the figure\n",
    "plt.savefig(\"../Images/Northern Hemisphere - Humidity vs. Latitude Linear Regression.png\")"
   ]
  },
  {
   "cell_type": "markdown",
   "metadata": {},
   "source": [
    "####  Southern Hemisphere - Humidity (%) vs. Latitude Linear Regression"
   ]
  },
  {
   "cell_type": "code",
   "execution_count": 115,
   "metadata": {},
   "outputs": [
    {
     "name": "stdout",
     "output_type": "stream",
     "text": [
      "The r-squared is : -0.12\n"
     ]
    },
    {
     "data": {
      "image/png": "[encoded data removed]",
      "text/plain": [
       "<Figure size 432x288 with 1 Axes>"
      ]
     },
     "metadata": {
      "needs_background": "light"
     },
     "output_type": "display_data"
    }
   ],
   "source": [
    "south_hemisphere = weather_dict.loc[weather_dict[\"Lat\"] < 0]\n",
    "south_hemisphere\n",
    "# Call function #1\n",
    "equation = linear_regression(south_hemisphere[\"Lat\"],south_hemisphere[\"Humidity\"])\n",
    "\n",
    "# Call function #2\n",
    "annotate(equation, -40, 15)\n",
    "\n",
    "# Set xlabel\n",
    "plt.xlabel(\"Latitude\")\n",
    "\n",
    "# Set ylabel\n",
    "plt.ylabel(\"Humidity\")\n",
    "\n",
    "# Save the png\n",
    "plt.savefig(\"../Images/Southern Hemisphere - Humidity vs. Latitude Linear Regression.png\")"
   ]
  },
  {
   "cell_type": "markdown",
   "metadata": {},
   "source": [
    "####  Northern Hemisphere - Cloudiness (%) vs. Latitude Linear Regression"
   ]
  },
  {
   "cell_type": "code",
   "execution_count": 116,
   "metadata": {},
   "outputs": [
    {
     "name": "stdout",
     "output_type": "stream",
     "text": [
      "The r-squared is : 0.01\n"
     ]
    },
    {
     "data": {
      "image/png": "[encoded data removed]",
      "text/plain": [
       "<Figure size 432x288 with 1 Axes>"
      ]
     },
     "metadata": {
      "needs_background": "light"
     },
     "output_type": "display_data"
    }
   ],
   "source": [
    " #Call function #1\n",
    "equation = linear_regression(Northern_Hemisphere[\"Lat\"],Northern_Hemisphere[\"Cloudiness\"])\n",
    "\n",
    "# Call function #2\n",
    "annotate(equation, 30, 40)\n",
    "\n",
    "# Set xlabel\n",
    "plt.xlabel(\"Latitude\")\n",
    "\n",
    "# Set ylabel\n",
    "plt.ylabel(\"Cloudiness\")\n",
    "\n",
    "# Save the figure\n",
    "plt.savefig(\"../Images/Northern Hemisphere - Cloudiness vs. Latitude Linear Regression.png\")"
   ]
  },
  {
   "cell_type": "markdown",
   "metadata": {},
   "source": [
    "####  Southern Hemisphere - Cloudiness (%) vs. Latitude Linear Regression"
   ]
  },
  {
   "cell_type": "code",
   "execution_count": 117,
   "metadata": {},
   "outputs": [
    {
     "name": "stdout",
     "output_type": "stream",
     "text": [
      "The r-squared is : -0.15\n"
     ]
    },
    {
     "data": {
      "image/png": "[encoded data removed]",
      "text/plain": [
       "<Figure size 432x288 with 1 Axes>"
      ]
     },
     "metadata": {
      "needs_background": "light"
     },
     "output_type": "display_data"
    }
   ],
   "source": [
    "# Call function #1\n",
    "equation = linear_regression(south_hemisphere[\"Lat\"],south_hemisphere[\"Cloudiness\"])\n",
    "\n",
    "# Call function #2\n",
    "annotate(equation, -30, 40)\n",
    "\n",
    "# Set xlabel\n",
    "plt.xlabel(\"Latitude\")\n",
    "\n",
    "# Set ylabel\n",
    "plt.ylabel(\"Cloudiness\")\n",
    "\n",
    "# Save the png\n",
    "plt.savefig(\"../Images/Southern Hemisphere - Cloudiness vs. Latitude Linear Regression.png\")"
   ]
  },
  {
   "cell_type": "markdown",
   "metadata": {},
   "source": [
    "####  Northern Hemisphere - Wind Speed (mph) vs. Latitude Linear Regression"
   ]
  },
  {
   "cell_type": "code",
   "execution_count": 118,
   "metadata": {},
   "outputs": [
    {
     "name": "stdout",
     "output_type": "stream",
     "text": [
      "The r-squared is : -0.1\n"
     ]
    },
    {
     "data": {
      "image/png": "[encoded data removed]",
      "text/plain": [
       "<Figure size 432x288 with 1 Axes>"
      ]
     },
     "metadata": {
      "needs_background": "light"
     },
     "output_type": "display_data"
    }
   ],
   "source": [
    "# Call function #1\n",
    "equation = linear_regression(Northern_Hemisphere[\"Lat\"],Northern_Hemisphere[\"Wind Speed\"])\n",
    "\n",
    "# Call function #2\n",
    "annotate(equation, 40,20)\n",
    "\n",
    "# Set xlabel\n",
    "plt.xlabel(\"Latitude\")\n",
    "\n",
    "# Set ylabel\n",
    "plt.ylabel(\"Wind speed\")\n",
    "\n",
    "# Save the png\n",
    "plt.savefig(\"../Images/Northern Hemisphere - Cloudiness vs. Latitude Linear Regression.png\")"
   ]
  },
  {
   "cell_type": "markdown",
   "metadata": {},
   "source": [
    "####  Southern Hemisphere - Wind Speed (mph) vs. Latitude Linear Regression"
   ]
  },
  {
   "cell_type": "code",
   "execution_count": 119,
   "metadata": {},
   "outputs": [
    {
     "name": "stdout",
     "output_type": "stream",
     "text": [
      "The r-squared is : -0.24\n"
     ]
    },
    {
     "data": {
      "image/png": "[encoded data removed]",
      "text/plain": [
       "<Figure size 432x288 with 1 Axes>"
      ]
     },
     "metadata": {
      "needs_background": "light"
     },
     "output_type": "display_data"
    }
   ],
   "source": [
    "# Call function #1\n",
    "equation = linear_regression(south_hemisphere[\"Lat\"],south_hemisphere[\"Wind Speed\"])\n",
    "\n",
    "# Call function #2\n",
    "annotate(equation, -30, 15)\n",
    "\n",
    "# Set xlabel\n",
    "plt.xlabel(\"Latitude\")\n",
    "\n",
    "# Set ylabel\n",
    "plt.ylabel(\"Wind Speed\")\n",
    "\n",
    "# Save the png\n",
    "plt.savefig(\"../Images/Southern Hemisphere - Wind Speed vs. Latitude Linear Regression.png\")"
   ]
  },
  {
   "cell_type": "code",
   "execution_count": null,
   "metadata": {},
   "outputs": [],
   "source": []
  }
 ],
 "metadata": {
  "anaconda-cloud": {},
  "kernel_info": {
   "name": "python3"
  },
  "kernelspec": {
   "display_name": "Python 3",
   "language": "python",
   "name": "python3"
  },
  "language_info": {
   "codemirror_mode": {
    "name": "ipython",
    "version": 3
   },
   "file_extension": ".py",
   "mimetype": "text/x-python",
   "name": "python",
   "nbconvert_exporter": "python",
   "pygments_lexer": "ipython3",
   "version": "3.7.6"
  },
  "latex_envs": {
   "LaTeX_envs_menu_present": true,
   "autoclose": false,
   "autocomplete": true,
   "bibliofile": "biblio.bib",
   "cite_by": "apalike",
   "current_citInitial": 1,
   "eqLabelWithNumbers": true,
   "eqNumInitial": 1,
   "hotkeys": {
    "equation": "Ctrl-E",
    "itemize": "Ctrl-I"
   },
   "labels_anchors": false,
   "latex_user_defs": false,
   "report_style_numbering": false,
   "user_envs_cfg": false
  },
  "nteract": {
   "version": "0.12.3"
  }
 },
 "nbformat": 4,
 "nbformat_minor": 2
}
